{
 "cells": [
  {
   "cell_type": "markdown",
   "metadata": {},
   "source": [
    "# CS 3120 Machine Learning Midterm\n",
    "Devon DeJohn, Spring 2020"
   ]
  },
  {
   "cell_type": "code",
   "execution_count": 1,
   "metadata": {},
   "outputs": [],
   "source": [
    "import sys\n",
    "sys.path.append('../')\n",
    "from source.multi_model import Model, SVC, DecisionTreeClassifier, KNeighborsClassifier, compare_models"
   ]
  },
  {
   "cell_type": "markdown",
   "metadata": {},
   "source": [
    "## MNIST dataset\n",
    "\n",
    "### Partitions\n",
    "```\n",
    "Partition 0:\n",
    "        name: 'train'\n",
    "        size: 29400 / 42000\n",
    "        pcnt: 70.0 %\n",
    "\n",
    "Partition 1:\n",
    "        name: 'test'\n",
    "        size: 8400 / 42000\n",
    "        pcnt: 20.0 %\n",
    "\n",
    "Partition 2:\n",
    "        name: 'validate'\n",
    "        size: 4200 / 42000\n",
    "        pcnt: 10.0 %\n",
    "```\n",
    "\n",
    "## Scores\n",
    "I used three different models for classification, SVM, Decisison Tree, and K-Nearest Neighbors. I used a validation set to test the different models by varying the number of principal components. I did also do an initial test of scaled vs. unscaled data, but found that all models performed significantly better on scaled data. Here are the results from the four different models, with PCA performed with values of `n = 8, 16, 32, 64`.\n",
    "\n",
    "Here are the models (and the parameters):\n",
    "\n",
    "```python\n",
    "\"support vector machine\": SVC(),\n",
    "\"k-nearest neighbors\": KNeighborsClassifier(\n",
    "    weights=\"distance\", metric=\"manhattan\", n_jobs=-1\n",
    "),\n",
    "\"logistic regression\": LogisticRegression(max_iter=1000),\n",
    "\"decision tree\": DecisionTreeClassifier()\n",
    "```"
   ]
  },
  {
   "cell_type": "code",
   "execution_count": null,
   "metadata": {},
   "outputs": [],
   "source": [
    "results = compare_models(Model(\"../data/mnist.csv\"))\n",
    "for mdl, res in results.items():\n",
    "    print(f\"\\n{mdl.upper()}\\n\" + \"\\n\".join(res))\n",
    "# end"
   ]
  },
  {
   "cell_type": "code",
   "execution_count": null,
   "metadata": {},
   "outputs": [],
   "source": []
  }
 ],
 "metadata": {
  "@webio": {
   "lastCommId": null,
   "lastKernelId": null
  },
  "kernelspec": {
   "display_name": "Python 3",
   "language": "python",
   "name": "python3"
  },
  "language_info": {
   "codemirror_mode": {
    "name": "ipython",
    "version": 3
   },
   "file_extension": ".py",
   "mimetype": "text/x-python",
   "name": "python",
   "nbconvert_exporter": "python",
   "pygments_lexer": "ipython3",
   "version": "3.8.2"
  }
 },
 "nbformat": 4,
 "nbformat_minor": 4
}
