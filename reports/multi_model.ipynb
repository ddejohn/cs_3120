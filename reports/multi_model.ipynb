{
 "cells": [
  {
   "cell_type": "markdown",
   "metadata": {},
   "source": [
    "# CS 3120 Machine Learning Midterm\n",
    "Devon DeJohn, Spring 2020"
   ]
  },
  {
   "cell_type": "code",
   "execution_count": 1,
   "metadata": {},
   "outputs": [],
   "source": [
    "import sys\n",
    "sys.path.append('../')\n",
    "from source.multi_model import Model, SVC, DecisionTreeClassifier, KNeighborsClassifier\n",
    "model = Model(\"../data/mnist.csv\")"
   ]
  },
  {
   "cell_type": "markdown",
   "metadata": {},
   "source": [
    "## MNIST dataset\n",
    "\n",
    "### Partitions\n",
    "```\n",
    "Partition 0:\n",
    "        name: 'train'\n",
    "        size: 29400 / 42000\n",
    "        pcnt: 70.0 %\n",
    "\n",
    "Partition 1:\n",
    "        name: 'test'\n",
    "        size: 8400 / 42000\n",
    "        pcnt: 20.0 %\n",
    "\n",
    "Partition 2:\n",
    "        name: 'validate'\n",
    "        size: 4200 / 42000\n",
    "        pcnt: 10.0 %\n",
    "```\n",
    "\n",
    "## Scores\n",
    "I used three different models for classification, SVM, Decisison Tree, and K-Nearest Neighbors"
   ]
  },
  {
   "cell_type": "code",
   "execution_count": null,
   "metadata": {},
   "outputs": [],
   "source": [
    "svm = SVC(kernel=\"linear\")\n",
    "svm.fit(model.train.X, model.train.Y)\n",
    "svm.score(model.test.X, model.test.Y)"
   ]
  },
  {
   "cell_type": "code",
   "execution_count": null,
   "metadata": {},
   "outputs": [],
   "source": [
    "dtr = DecisionTreeClassifier()\n",
    "dtr.fit(model.train.X, model.train.Y)\n",
    "dtr.score(model.test.X, model.test.Y)"
   ]
  },
  {
   "cell_type": "code",
   "execution_count": null,
   "metadata": {},
   "outputs": [],
   "source": [
    "knn = KNeighborsClassifier(\n",
    "    n_neighbors=3,\n",
    "    metric=\"manhattan\",\n",
    "    weights=\"distance\",\n",
    "    n_jobs=-1\n",
    ")\n",
    "knn.fit(model.train.X, model.train.Y)\n",
    "knn.score(model.test.X, model.test.Y)"
   ]
  },
  {
   "cell_type": "markdown",
   "metadata": {},
   "source": [
    "## Classification Reports\n",
    "\n",
    "### Support Vector Machine\n",
    "```\n",
    "       label  precision    recall  f1-score   support\n",
    "-----------------------------------------------------\n",
    "           0       0.96      0.96      0.96       832\n",
    "           1       0.95      0.98      0.97       920\n",
    "           2       0.92      0.89      0.90       843\n",
    "           3       0.88      0.83      0.86       881\n",
    "           4       0.93      0.92      0.92       832\n",
    "           5       0.84      0.86      0.85       782\n",
    "           6       0.95      0.94      0.95       800\n",
    "           7       0.95      0.89      0.92       867\n",
    "           8       0.81      0.89      0.85       791\n",
    "           9       0.86      0.88      0.87       852\n",
    "-----------------------------------------------------\n",
    "    accuracy                           0.91      8400\n",
    "   macro avg       0.91      0.90      0.90      8400\n",
    "weighted avg       0.91      0.91      0.91      8400\n",
    "```\n",
    "\n",
    "### Decision Tree\n",
    "```\n",
    "       label  precision    recall  f1-score   support\n",
    "-----------------------------------------------------\n",
    "           0       0.93      0.91      0.92       832\n",
    "           1       0.92      0.96      0.94       920\n",
    "           2       0.82      0.79      0.80       843\n",
    "           3       0.78      0.78      0.78       881\n",
    "           4       0.85      0.86      0.85       832\n",
    "           5       0.77      0.78      0.77       782\n",
    "           6       0.87      0.88      0.87       800\n",
    "           7       0.88      0.87      0.88       867\n",
    "           8       0.77      0.76      0.76       791\n",
    "           9       0.83      0.83      0.83       852\n",
    "-----------------------------------------------------\n",
    "    accuracy                           0.84      8400\n",
    "   macro avg       0.84      0.84      0.84      8400\n",
    "weighted avg       0.84      0.84      0.84      8400\n",
    "```\n",
    "\n",
    "### K Nearest Neighbors\n",
    "```\n",
    "       label  precision    recall  f1-score   support\n",
    "-----------------------------------------------------\n",
    "           0       0.98      0.99      0.98       832\n",
    "           1       0.93      1.00      0.96       920\n",
    "           2       0.99      0.94      0.96       843\n",
    "           3       0.96      0.96      0.96       881\n",
    "           4       0.97      0.96      0.97       832\n",
    "           5       0.95      0.96      0.95       782\n",
    "           6       0.97      0.98      0.98       800\n",
    "           7       0.95      0.96      0.96       867\n",
    "           8       0.99      0.90      0.94       791\n",
    "           9       0.94      0.94      0.94       852\n",
    "-----------------------------------------------------\n",
    "    accuracy                           0.96      8400\n",
    "   macro avg       0.96      0.96      0.96      8400\n",
    "weighted avg       0.96      0.96      0.96      8400\n",
    "```"
   ]
  },
  {
   "cell_type": "code",
   "execution_count": null,
   "metadata": {},
   "outputs": [],
   "source": []
  }
 ],
 "metadata": {
  "@webio": {
   "lastCommId": null,
   "lastKernelId": null
  },
  "kernelspec": {
   "display_name": "Python 3",
   "language": "python",
   "name": "python3"
  },
  "language_info": {
   "codemirror_mode": {
    "name": "ipython",
    "version": 3
   },
   "file_extension": ".py",
   "mimetype": "text/x-python",
   "name": "python",
   "nbconvert_exporter": "python",
   "pygments_lexer": "ipython3",
   "version": "3.7.1rc1"
  }
 },
 "nbformat": 4,
 "nbformat_minor": 4
}
