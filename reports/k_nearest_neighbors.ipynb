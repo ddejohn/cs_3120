{
 "cells": [
  {
   "cell_type": "markdown",
   "metadata": {},
   "source": [
    "# CS 3120 Machine Learning HW1\n",
    "\n",
    "Devon DeJohn, Spring 2020"
   ]
  },
  {
   "cell_type": "code",
   "execution_count": 1,
   "metadata": {},
   "outputs": [
    {
     "ename": "SyntaxError",
     "evalue": "invalid syntax (k_nearest_neighbors.py, line 201)",
     "output_type": "error",
     "traceback": [
      "Traceback \u001b[1;36m(most recent call last)\u001b[0m:\n",
      "  File \u001b[0;32m\"c:\\python37\\lib\\site-packages\\IPython\\core\\interactiveshell.py\"\u001b[0m, line \u001b[0;32m3319\u001b[0m, in \u001b[0;35mrun_code\u001b[0m\n    exec(code_obj, self.user_global_ns, self.user_ns)\n",
      "\u001b[1;36m  File \u001b[1;32m\"<ipython-input-1-1965fa3b0ed4>\"\u001b[1;36m, line \u001b[1;32m3\u001b[1;36m, in \u001b[1;35m<module>\u001b[1;36m\u001b[0m\n\u001b[1;33m    from source import k_nearest_neighbors\u001b[0m\n",
      "\u001b[1;36m  File \u001b[1;32m\"..\\source\\k_nearest_neighbors.py\"\u001b[1;36m, line \u001b[1;32m201\u001b[0m\n\u001b[1;33m    y_title=\"metric\",\u001b[0m\n\u001b[1;37m          ^\u001b[0m\n\u001b[1;31mSyntaxError\u001b[0m\u001b[1;31m:\u001b[0m invalid syntax\n"
     ]
    }
   ],
   "source": [
    "import sys\n",
    "sys.path.append('../')\n",
    "from source import k_nearest_neighbors\n",
    "model = k_nearest_neighbors.Model(\"../data/animals\")"
   ]
  },
  {
   "cell_type": "markdown",
   "metadata": {},
   "source": [
    "## Imports\n",
    "\n",
    "```python\n",
    "import cv2\n",
    "import pathlib\n",
    "import numpy as np\n",
    "from sklearn.neighbors import KNeighborsClassifier\n",
    "from sklearn.metrics import classification_report as crep\n",
    "from random import shuffle\n",
    "```\n",
    "\n",
    "## Train, Test, Validate\n",
    "\n",
    "My default model's parameters are slightly different than `sklearn`'s model, as noted in the initial call to `super().__init__()`:\n",
    "\n",
    "```python\n",
    "DEFAULT = {\n",
    "    \"n_neighbors\": 3,\n",
    "    \"metric\": \"manhattan\",\n",
    "    \"weights\": \"distance\",\n",
    "    \"n_jobs\": -1\n",
    "}\n",
    "\n",
    "class Model(KNeighborsClassifier):\n",
    "    \"\"\"A container for a KNN classifier\"\"\"\n",
    "    def __init__(self, path: str):\n",
    "        super().__init__(**DEFAULT)\n",
    "        self.dims = (16,16)\n",
    "        self.labels = {}\n",
    "        self.path = path\n",
    "        self.parts = [\"train\", \"test\", \"validate\"]\n",
    "        self.load_data()\n",
    "        self.fit(self.train.X, self.train.Y)\n",
    "    # end\n",
    "```\n",
    "\n",
    "I also decided to implement my own version of `train_test_split` that supports multiple partitions, not just two:"
   ]
  },
  {
   "cell_type": "code",
   "execution_count": null,
   "metadata": {},
   "outputs": [],
   "source": [
    "model.datasets()"
   ]
  },
  {
   "cell_type": "markdown",
   "metadata": {},
   "source": [
    "## K=3, using the $\\ell_1$-norm\n",
    "\n",
    "For `n_neighbors=3`, using the `manhattan` distance metric, or the $\\ell_1$-norm, we have:"
   ]
  },
  {
   "cell_type": "code",
   "execution_count": null,
   "metadata": {},
   "outputs": [],
   "source": [
    "model.report()"
   ]
  },
  {
   "cell_type": "markdown",
   "metadata": {},
   "source": [
    "## Retraining\n",
    "\n",
    "I added the ability to retrain the model directly through the `Model` type by making `sklearn.KNeighborsClassifier` a super class of `Model`, so that the classifier's attributes are accessible via the `Model` type.\n",
    "\n",
    "## Performance\n",
    "\n",
    "Taking the cartesian product of these parameters, we can retrain our model on every combination, and measure the mean accuracy:\n",
    "\n",
    "```python\n",
    "dims = [8, 16, 32, 64]\n",
    "neighbors = [3, 5, 7, 9]\n",
    "metrics = [\"manhattan\", \"euclidean\"]\n",
    "weights = [\"uniform\", \"distance\"]\n",
    "```\n",
    "\n",
    "Each time `Model.retrain()` is called, the seed for the `random` module is reset, so the testing data are the same across each run.\n",
    "\n",
    "Each subplot below represents a metric (columnar), and a weighting algorithm (tabular). The horizontal axis of each subplot represents the pixel dimensions of the rescaled image data, and the vertical axis represents the number of neighbors counted in voting."
   ]
  },
  {
   "cell_type": "code",
   "execution_count": null,
   "metadata": {
    "scrolled": false
   },
   "outputs": [],
   "source": [
    "model.cycle_params()"
   ]
  },
  {
   "cell_type": "code",
   "execution_count": null,
   "metadata": {},
   "outputs": [],
   "source": []
  }
 ],
 "metadata": {
  "@webio": {
   "lastCommId": null,
   "lastKernelId": null
  },
  "kernelspec": {
   "display_name": "Python 3",
   "language": "python",
   "name": "python3"
  },
  "language_info": {
   "codemirror_mode": {
    "name": "ipython",
    "version": 3
   },
   "file_extension": ".py",
   "mimetype": "text/x-python",
   "name": "python",
   "nbconvert_exporter": "python",
   "pygments_lexer": "ipython3",
   "version": "3.7.1rc1"
  }
 },
 "nbformat": 4,
 "nbformat_minor": 4
}
