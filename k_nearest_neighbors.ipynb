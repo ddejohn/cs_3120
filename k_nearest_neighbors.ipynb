{
 "cells": [
  {
   "cell_type": "markdown",
   "metadata": {},
   "source": [
    "# CS 3120 Machine Learning HW1\n",
    "\n",
    "Devon DeJohn, Spring 2020"
   ]
  },
  {
   "cell_type": "code",
   "execution_count": 1,
   "metadata": {},
   "outputs": [],
   "source": [
    "from HW_3 import k_nearest_neighbors\n",
    "model = k_nearest_neighbors.Model(\"data/animals\")"
   ]
  },
  {
   "cell_type": "markdown",
   "metadata": {},
   "source": []
  },
  {
   "cell_type": "code",
   "execution_count": 2,
   "metadata": {},
   "outputs": [
    {
     "name": "stdout",
     "output_type": "stream",
     "text": [
      "\n",
      "              precision    recall  f1-score   support\n",
      "\n",
      "         cat       0.43      0.57      0.49       114\n",
      "         dog       0.31      0.40      0.35        87\n",
      "       panda       0.84      0.32      0.47        99\n",
      "\n",
      "    accuracy                           0.44       300\n",
      "   macro avg       0.53      0.43      0.44       300\n",
      "weighted avg       0.53      0.44      0.44       300\n",
      "\n"
     ]
    }
   ],
   "source": [
    "model.report()"
   ]
  },
  {
   "cell_type": "markdown",
   "metadata": {},
   "source": []
  },
  {
   "cell_type": "code",
   "execution_count": 3,
   "metadata": {},
   "outputs": [
    {
     "name": "stdout",
     "output_type": "stream",
     "text": [
      "\n",
      "              precision    recall  f1-score   support\n",
      "\n",
      "         cat       0.46      0.51      0.49       114\n",
      "         dog       0.29      0.44      0.35        87\n",
      "       panda       0.84      0.38      0.53        99\n",
      "\n",
      "    accuracy                           0.45       300\n",
      "   macro avg       0.53      0.44      0.45       300\n",
      "weighted avg       0.54      0.45      0.46       300\n",
      "\n"
     ]
    }
   ],
   "source": [
    "model.retrain({\"p\": 2, \"n_neighbors\": 7, \"weights\": \"distance\"})\n",
    "model.report()"
   ]
  }
 ],
 "metadata": {
  "@webio": {
   "lastCommId": null,
   "lastKernelId": null
  },
  "kernelspec": {
   "display_name": "Python 3",
   "language": "python",
   "name": "python3"
  },
  "language_info": {
   "codemirror_mode": {
    "name": "ipython",
    "version": 3
   },
   "file_extension": ".py",
   "mimetype": "text/x-python",
   "name": "python",
   "nbconvert_exporter": "python",
   "pygments_lexer": "ipython3",
   "version": "3.7.1rc1"
  }
 },
 "nbformat": 4,
 "nbformat_minor": 4
}
